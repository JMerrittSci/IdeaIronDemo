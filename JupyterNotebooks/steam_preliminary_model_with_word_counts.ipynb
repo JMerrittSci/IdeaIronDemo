{
 "cells": [
  {
   "cell_type": "code",
   "execution_count": 1,
   "metadata": {},
   "outputs": [],
   "source": [
    "import requests\n",
    "import shutil\n",
    "import os\n",
    "import io\n",
    "import json\n",
    "import time\n",
    "import datetime\n",
    "import dateutil\n",
    "import random\n",
    "import re\n",
    "import ast\n",
    "import pickle\n",
    "import numpy as np\n",
    "import pandas as pd\n",
    "from IPython.display import clear_output\n",
    "from pprint import pprint\n",
    "import matplotlib.pyplot as plt\n",
    "\n",
    "parent_folder='steam_data'\n",
    "\n",
    "csv_folder=os.path.join(parent_folder,\"bulk\",\"csv_no_text\",\"early_access_standardized\")\n",
    "csv_english_folder=os.path.join(parent_folder,\"bulk\",\"csv_english\",\"early_access_standardized\")\n",
    "testing_folder=os.path.join(parent_folder,\"bulk\",\"testing\")"
   ]
  },
  {
   "cell_type": "code",
   "execution_count": 2,
   "metadata": {},
   "outputs": [
    {
     "name": "stdout",
     "output_type": "stream",
     "text": [
      "4935\n"
     ]
    }
   ],
   "source": [
    "with open(os.path.join(testing_folder,'still_in_early_access_FINAL'),'r') as file:\n",
    "    current_ea_games=sorted(list(set([int(x) for x in file.read().split('\\n')[:-1]])))\n",
    "with open(os.path.join(testing_folder,'out_of_early_access_FINAL'),'r') as file:\n",
    "    former_ea_games=sorted(list(set([int(x) for x in file.read().split('\\n')[:-1]])))\n",
    "full_games_list=sorted(list(set(current_ea_games+former_ea_games)))\n",
    "with open(os.path.join(parent_folder,'official_appid_json_list'),'r') as file:\n",
    "    temp_json=json.load(file)['applist']['apps']\n",
    "official_app_list={}\n",
    "for x in temp_json:\n",
    "    official_app_list[x['appid']]=x['name']\n",
    "print(len(full_games_list))\n",
    "game_df=pd.read_csv(os.path.join(testing_folder,'20190124_games.csv'))\n",
    "all_categories=set()\n",
    "all_genres=set()\n",
    "all_developers={}\n",
    "all_publishers={}\n",
    "for x in ['genres','developers','publishers','categories']:\n",
    "    game_df[x]=game_df[x].apply(ast.literal_eval)\n",
    "for i,row in game_df.iterrows():\n",
    "    all_categories=all_categories | set(row['categories'])\n",
    "    all_genres=all_genres | set(row['genres'])\n",
    "    #print(all_genres)\n",
    "    for developer in row['developers']:\n",
    "        if developer not in all_developers:\n",
    "            all_developers[developer]=1\n",
    "        else:\n",
    "            all_developers[developer]+=1\n",
    "    for publisher in row['publishers']:\n",
    "        if publisher not in all_publishers:\n",
    "            all_publishers[publisher]=1\n",
    "        else:\n",
    "            all_publishers[publisher]+=1\n",
    "#print(all_genres)\n",
    "all_genres.remove('Early Access')\n",
    "all_categories=sorted(list(all_categories))\n",
    "all_genres=sorted(list(all_genres))"
   ]
  },
  {
   "cell_type": "code",
   "execution_count": 3,
   "metadata": {},
   "outputs": [],
   "source": [
    "num_reviews={}\n",
    "early_access_start_time={}"
   ]
  },
  {
   "cell_type": "code",
   "execution_count": 5,
   "metadata": {},
   "outputs": [
    {
     "name": "stdout",
     "output_type": "stream",
     "text": [
      "2939/2939\n"
     ]
    }
   ],
   "source": [
    "csv_folder=os.path.join(parent_folder,\"bulk\",\"csv_no_text\",\"early_access_standardized\")\n",
    "out_folder=os.path.join(parent_folder,\"bulk\",\"csv_no_text\",\"time_series_by_month_revised\")\n",
    "if not os.path.exists(out_folder):\n",
    "    os.makedirs(out_folder)\n",
    "\n",
    "for i,appid in enumerate(current_ea_games,1):\n",
    "    temp_time_series=[]\n",
    "    df=pd.read_csv(os.path.join(csv_folder,str(appid)+'_reviews_all.csv'))\n",
    "    df['num_reviews']=df['num_reviews'].apply(lambda x: max(1,x))\n",
    "    df['num_games_owned']=df['num_games_owned'].apply(lambda x: max(1,x))\n",
    "    num_reviews[int(appid)]=len(df)\n",
    "    earliest_time=df['timestamp_updated'].min()\n",
    "    early_access_start_time[int(appid)]=earliest_time\n",
    "    latest_time=df['timestamp_updated'].max()\n",
    "    num_months=int(np.ceil(float(latest_time-earliest_time+1)/(30.0*24.0*60.0*60.0)))\n",
    "    for j in range(num_months):\n",
    "        df_pos=df[(df['timestamp_updated']>=earliest_time+(j)*30.0*24.0*60.0*60.0) &\n",
    "                    (df['timestamp_updated']<earliest_time+(j+1)*30.0*24.0*60.0*60.0) &\n",
    "                      (df['voted_up']==True)]\n",
    "        df_neg=df[(df['timestamp_updated']>=earliest_time+(j)*30.0*24.0*60.0*60.0) &\n",
    "                    (df['timestamp_updated']<earliest_time+(j+1)*30.0*24.0*60.0*60.0) &\n",
    "                      (df['voted_up']==False)]\n",
    "        num_pos=float(len(df_pos))\n",
    "        num_neg=float(len(df_neg))\n",
    "        weight_likes_pos=num_pos+df_pos['votes_up'].sum()\n",
    "        weight_likes_neg=num_neg+df_neg['votes_up'].sum()\n",
    "        weight_games_pos=df_pos['num_games_owned'].sum()\n",
    "        weight_games_neg=df_neg['num_games_owned'].sum()\n",
    "        weight_reviews_pos=df_pos['num_reviews'].sum()\n",
    "        weight_reviews_neg=df_neg['num_reviews'].sum()\n",
    "        if num_neg>0 or num_pos>0:\n",
    "            temp_time_series.append({'early_access':True,'month':j,'reviews':int(num_pos+num_neg),\n",
    "                                     'ratio':num_pos/(num_neg+num_pos),'weight_likes_ratio':weight_likes_pos/(weight_likes_pos+weight_likes_neg),\n",
    "                                    'weight_games_ratio':weight_games_pos/(weight_games_pos+weight_games_neg),\n",
    "                                    'weight_reviews_ratio':weight_reviews_pos/(weight_reviews_pos+weight_reviews_neg)})\n",
    "    pd.DataFrame(temp_time_series).to_csv(os.path.join(out_folder,str(appid)+'_month_time_series.csv'),index=False)\n",
    "    clear_output(wait=True)\n",
    "    print(str(i)+\"/\"+str(len(current_ea_games)))"
   ]
  },
  {
   "cell_type": "code",
   "execution_count": 6,
   "metadata": {},
   "outputs": [
    {
     "name": "stdout",
     "output_type": "stream",
     "text": [
      "1996/1996\n"
     ]
    }
   ],
   "source": [
    "csv_folder=os.path.join(parent_folder,\"bulk\",\"csv_no_text\",\"early_access_standardized\")\n",
    "out_folder=os.path.join(parent_folder,\"bulk\",\"csv_no_text\",\"time_series_by_month_revised\")\n",
    "if not os.path.exists(out_folder):\n",
    "    os.makedirs(out_folder)\n",
    "\n",
    "\n",
    "normal_review_start_time={}\n",
    "for i,appid in enumerate(former_ea_games,1):\n",
    "    df=pd.read_csv(os.path.join(csv_folder,str(appid)+'_reviews_all.csv'))\n",
    "    df['num_reviews']=df['num_reviews'].apply(lambda x: max(1,x))\n",
    "    df['num_games_owned']=df['num_games_owned'].apply(lambda x: max(1,x))\n",
    "    if len(df[df['written_during_early_access']==True])>0 and len(df[df['written_during_early_access']==False])>0:\n",
    "        num_reviews[int(appid)]=len(df)\n",
    "        earliest_time=df['timestamp_updated'].min()\n",
    "        normal_review_time=df[df['written_during_early_access']==False]['timestamp_updated'].min()\n",
    "        early_access_start_time[int(appid)]=earliest_time\n",
    "        normal_review_start_time[int(appid)]=normal_review_time\n",
    "        latest_time=df['timestamp_updated'].max()\n",
    "\n",
    "        temp_time_series=[]\n",
    "        num_months=int(np.ceil(float(normal_review_time-earliest_time)/(30.0*24.0*60.0*60.0)))\n",
    "        for j in range(num_months):\n",
    "            df_pos=df[(df['timestamp_updated']>=earliest_time+(j)*30.0*24.0*60.0*60.0) &\n",
    "                        (df['timestamp_updated']<min(earliest_time+(j+1)*30.0*24.0*60.0*60.0,normal_review_time)) &\n",
    "                          (df['voted_up']==True)]\n",
    "            df_neg=df[(df['timestamp_updated']>=earliest_time+(j)*30.0*24.0*60.0*60.0) &\n",
    "                        (df['timestamp_updated']<min(earliest_time+(j+1)*30.0*24.0*60.0*60.0,normal_review_time)) &\n",
    "                          (df['voted_up']==False)]\n",
    "            num_pos=float(len(df_pos))\n",
    "            num_neg=float(len(df_neg))\n",
    "            weight_likes_pos=num_pos+df_pos['votes_up'].sum()\n",
    "            weight_likes_neg=num_neg+df_neg['votes_up'].sum()\n",
    "            weight_games_pos=df_pos['num_games_owned'].sum()\n",
    "            weight_games_neg=df_neg['num_games_owned'].sum()\n",
    "            weight_reviews_pos=df_pos['num_reviews'].sum()\n",
    "            weight_reviews_neg=df_neg['num_reviews'].sum()\n",
    "            if num_neg>0 or num_pos>0:\n",
    "                temp_time_series.append({'early_access':True,'month':j,'reviews':int(num_pos+num_neg),\n",
    "                                         'ratio':num_pos/(num_neg+num_pos),'weight_likes_ratio':weight_likes_pos/(weight_likes_pos+weight_likes_neg),\n",
    "                                        'weight_games_ratio':weight_games_pos/(weight_games_pos+weight_games_neg),\n",
    "                                        'weight_reviews_ratio':weight_reviews_pos/(weight_reviews_pos+weight_reviews_neg)})\n",
    "        pd.DataFrame(temp_time_series).to_csv(os.path.join(out_folder,str(appid)+'_month_time_series_early.csv'),index=False)\n",
    "\n",
    "        temp_time_series=[]\n",
    "        num_months=int(np.ceil(float(latest_time-normal_review_time+1)/(30.0*24.0*60.0*60.0)))\n",
    "        for j in range(num_months):\n",
    "            df_pos=df[(df['timestamp_updated']>=normal_review_time+(j)*30.0*24.0*60.0*60.0) &\n",
    "                        (df['timestamp_updated']<normal_review_time+(j+1)*30.0*24.0*60.0*60.0) &\n",
    "                          (df['voted_up']==True)]\n",
    "            df_neg=df[(df['timestamp_updated']>=normal_review_time+(j)*30.0*24.0*60.0*60.0) &\n",
    "                        (df['timestamp_updated']<normal_review_time+(j+1)*30.0*24.0*60.0*60.0) &\n",
    "                          (df['voted_up']==False)]\n",
    "            num_pos=float(len(df_pos))\n",
    "            num_neg=float(len(df_neg))\n",
    "            weight_likes_pos=num_pos+df_pos['votes_up'].sum()\n",
    "            weight_likes_neg=num_neg+df_neg['votes_up'].sum()\n",
    "            weight_games_pos=df_pos['num_games_owned'].sum()\n",
    "            weight_games_neg=df_neg['num_games_owned'].sum()\n",
    "            weight_reviews_pos=df_pos['num_reviews'].sum()\n",
    "            weight_reviews_neg=df_neg['num_reviews'].sum()\n",
    "            if num_neg>0 or num_pos>0:\n",
    "                temp_time_series.append({'early_access':False,'month':j,'reviews':int(num_pos+num_neg),\n",
    "                                         'ratio':num_pos/(num_neg+num_pos),'weight_likes_ratio':weight_likes_pos/(weight_likes_pos+weight_likes_neg),\n",
    "                                        'weight_games_ratio':weight_games_pos/(weight_games_pos+weight_games_neg),\n",
    "                                        'weight_reviews_ratio':weight_reviews_pos/(weight_reviews_pos+weight_reviews_neg)})\n",
    "        pd.DataFrame(temp_time_series).to_csv(os.path.join(out_folder,str(appid)+'_month_time_series_release.csv'),index=False)\n",
    "\n",
    "\n",
    "\n",
    "        clear_output(wait=True)\n",
    "        print(str(i)+\"/\"+str(len(former_ea_games)))"
   ]
  },
  {
   "cell_type": "code",
   "execution_count": 128,
   "metadata": {},
   "outputs": [
    {
     "data": {
      "text/html": [
       "<div>\n",
       "<style scoped>\n",
       "    .dataframe tbody tr th:only-of-type {\n",
       "        vertical-align: middle;\n",
       "    }\n",
       "\n",
       "    .dataframe tbody tr th {\n",
       "        vertical-align: top;\n",
       "    }\n",
       "\n",
       "    .dataframe thead th {\n",
       "        text-align: right;\n",
       "    }\n",
       "</style>\n",
       "<table border=\"1\" class=\"dataframe\">\n",
       "  <thead>\n",
       "    <tr style=\"text-align: right;\">\n",
       "      <th></th>\n",
       "      <th>appid</th>\n",
       "      <th>categories</th>\n",
       "      <th>content_warning</th>\n",
       "      <th>controller_support</th>\n",
       "      <th>developers</th>\n",
       "      <th>failed</th>\n",
       "      <th>genres</th>\n",
       "      <th>has_achievements</th>\n",
       "      <th>has_metacritic</th>\n",
       "      <th>is_free</th>\n",
       "      <th>...</th>\n",
       "      <th>multiple_packages</th>\n",
       "      <th>name</th>\n",
       "      <th>num_achievements</th>\n",
       "      <th>num_languages</th>\n",
       "      <th>num_movies</th>\n",
       "      <th>num_reviews</th>\n",
       "      <th>num_screenshots</th>\n",
       "      <th>platforms</th>\n",
       "      <th>publishers</th>\n",
       "      <th>still_in_early_access</th>\n",
       "    </tr>\n",
       "  </thead>\n",
       "  <tbody>\n",
       "    <tr>\n",
       "      <th>0</th>\n",
       "      <td>15540</td>\n",
       "      <td>[Single-player, Steam Achievements, Steam Trad...</td>\n",
       "      <td>False</td>\n",
       "      <td>False</td>\n",
       "      <td>[Dejobaan Games, LLC]</td>\n",
       "      <td>NaN</td>\n",
       "      <td>[Action, Early Access, Indie]</td>\n",
       "      <td>True</td>\n",
       "      <td>False</td>\n",
       "      <td>False</td>\n",
       "      <td>...</td>\n",
       "      <td>True</td>\n",
       "      <td>1... 2... 3... KICK IT! (Drop That Beat Like a...</td>\n",
       "      <td>1</td>\n",
       "      <td>1</td>\n",
       "      <td>1</td>\n",
       "      <td>483</td>\n",
       "      <td>10</td>\n",
       "      <td>1</td>\n",
       "      <td>[Dejobaan Games, LLC]</td>\n",
       "      <td>True</td>\n",
       "    </tr>\n",
       "    <tr>\n",
       "      <th>1</th>\n",
       "      <td>16900</td>\n",
       "      <td>[Single-player, Online Multi-Player, Online Co...</td>\n",
       "      <td>False</td>\n",
       "      <td>False</td>\n",
       "      <td>[BlackFoot Studios]</td>\n",
       "      <td>NaN</td>\n",
       "      <td>[Action, Indie, Early Access]</td>\n",
       "      <td>False</td>\n",
       "      <td>False</td>\n",
       "      <td>False</td>\n",
       "      <td>...</td>\n",
       "      <td>False</td>\n",
       "      <td>Ground Branch</td>\n",
       "      <td>0</td>\n",
       "      <td>1</td>\n",
       "      <td>2</td>\n",
       "      <td>591</td>\n",
       "      <td>16</td>\n",
       "      <td>1</td>\n",
       "      <td>[BlackFoot Studios]</td>\n",
       "      <td>True</td>\n",
       "    </tr>\n",
       "    <tr>\n",
       "      <th>2</th>\n",
       "      <td>25000</td>\n",
       "      <td>[Single-player, Partial Controller Support, In...</td>\n",
       "      <td>False</td>\n",
       "      <td>False</td>\n",
       "      <td>[Wolfire Games]</td>\n",
       "      <td>NaN</td>\n",
       "      <td>[Action, Indie]</td>\n",
       "      <td>False</td>\n",
       "      <td>False</td>\n",
       "      <td>False</td>\n",
       "      <td>...</td>\n",
       "      <td>False</td>\n",
       "      <td>Overgrowth</td>\n",
       "      <td>0</td>\n",
       "      <td>1</td>\n",
       "      <td>3</td>\n",
       "      <td>4428</td>\n",
       "      <td>9</td>\n",
       "      <td>3</td>\n",
       "      <td>[Wolfire Games]</td>\n",
       "      <td>False</td>\n",
       "    </tr>\n",
       "    <tr>\n",
       "      <th>3</th>\n",
       "      <td>108600</td>\n",
       "      <td>[Single-player, Multi-player, Co-op, Shared/Sp...</td>\n",
       "      <td>False</td>\n",
       "      <td>False</td>\n",
       "      <td>[The Indie Stone]</td>\n",
       "      <td>NaN</td>\n",
       "      <td>[Indie, RPG, Simulation, Early Access]</td>\n",
       "      <td>False</td>\n",
       "      <td>False</td>\n",
       "      <td>False</td>\n",
       "      <td>...</td>\n",
       "      <td>True</td>\n",
       "      <td>Project Zomboid</td>\n",
       "      <td>0</td>\n",
       "      <td>16</td>\n",
       "      <td>1</td>\n",
       "      <td>19407</td>\n",
       "      <td>12</td>\n",
       "      <td>3</td>\n",
       "      <td>[The Indie Stone]</td>\n",
       "      <td>True</td>\n",
       "    </tr>\n",
       "    <tr>\n",
       "      <th>4</th>\n",
       "      <td>116100</td>\n",
       "      <td>[Single-player, Multi-player, Shared/Split Scr...</td>\n",
       "      <td>False</td>\n",
       "      <td>False</td>\n",
       "      <td>[Eclipse Games]</td>\n",
       "      <td>NaN</td>\n",
       "      <td>[Indie, Racing]</td>\n",
       "      <td>True</td>\n",
       "      <td>False</td>\n",
       "      <td>False</td>\n",
       "      <td>...</td>\n",
       "      <td>False</td>\n",
       "      <td>Super Toy Cars</td>\n",
       "      <td>26</td>\n",
       "      <td>2</td>\n",
       "      <td>1</td>\n",
       "      <td>327</td>\n",
       "      <td>20</td>\n",
       "      <td>2</td>\n",
       "      <td>[Eclipse Games]</td>\n",
       "      <td>False</td>\n",
       "    </tr>\n",
       "  </tbody>\n",
       "</table>\n",
       "<p>5 rows × 21 columns</p>\n",
       "</div>"
      ],
      "text/plain": [
       "    appid                                         categories  content_warning  \\\n",
       "0   15540  [Single-player, Steam Achievements, Steam Trad...            False   \n",
       "1   16900  [Single-player, Online Multi-Player, Online Co...            False   \n",
       "2   25000  [Single-player, Partial Controller Support, In...            False   \n",
       "3  108600  [Single-player, Multi-player, Co-op, Shared/Sp...            False   \n",
       "4  116100  [Single-player, Multi-player, Shared/Split Scr...            False   \n",
       "\n",
       "   controller_support             developers failed  \\\n",
       "0               False  [Dejobaan Games, LLC]    NaN   \n",
       "1               False    [BlackFoot Studios]    NaN   \n",
       "2               False        [Wolfire Games]    NaN   \n",
       "3               False      [The Indie Stone]    NaN   \n",
       "4               False        [Eclipse Games]    NaN   \n",
       "\n",
       "                                   genres  has_achievements  has_metacritic  \\\n",
       "0           [Action, Early Access, Indie]              True           False   \n",
       "1           [Action, Indie, Early Access]             False           False   \n",
       "2                         [Action, Indie]             False           False   \n",
       "3  [Indie, RPG, Simulation, Early Access]             False           False   \n",
       "4                         [Indie, Racing]              True           False   \n",
       "\n",
       "   is_free          ...           multiple_packages  \\\n",
       "0    False          ...                        True   \n",
       "1    False          ...                       False   \n",
       "2    False          ...                       False   \n",
       "3    False          ...                        True   \n",
       "4    False          ...                       False   \n",
       "\n",
       "                                                name num_achievements  \\\n",
       "0  1... 2... 3... KICK IT! (Drop That Beat Like a...                1   \n",
       "1                                      Ground Branch                0   \n",
       "2                                         Overgrowth                0   \n",
       "3                                    Project Zomboid                0   \n",
       "4                                     Super Toy Cars               26   \n",
       "\n",
       "   num_languages  num_movies  num_reviews  num_screenshots  platforms  \\\n",
       "0              1           1          483               10          1   \n",
       "1              1           2          591               16          1   \n",
       "2              1           3         4428                9          3   \n",
       "3             16           1        19407               12          3   \n",
       "4              2           1          327               20          2   \n",
       "\n",
       "              publishers still_in_early_access  \n",
       "0  [Dejobaan Games, LLC]                  True  \n",
       "1    [BlackFoot Studios]                  True  \n",
       "2        [Wolfire Games]                 False  \n",
       "3      [The Indie Stone]                  True  \n",
       "4        [Eclipse Games]                 False  \n",
       "\n",
       "[5 rows x 21 columns]"
      ]
     },
     "execution_count": 128,
     "metadata": {},
     "output_type": "execute_result"
    }
   ],
   "source": [
    "game_df.head()"
   ]
  },
  {
   "cell_type": "code",
   "execution_count": 44,
   "metadata": {},
   "outputs": [],
   "source": [
    "relevant_appids=[]\n",
    "\n",
    "for i,appid in enumerate(former_ea_games,1):\n",
    "    if appid in num_reviews:\n",
    "        relevant_appids.append(appid)\n",
    "\n",
    "relevant_appids=np.array(relevant_appids)\n",
    "        \n",
    "#temp=int(len(training_appids)/10)\n",
    "#validation_appids = [training_appids.pop(random.randrange(len(training_appids))) for x in range(temp)]\n",
    "#testing_appids = [training_appids.pop(random.randrange(len(training_appids))) for x in range(temp)]"
   ]
  },
  {
   "cell_type": "code",
   "execution_count": null,
   "metadata": {},
   "outputs": [],
   "source": []
  },
  {
   "cell_type": "code",
   "execution_count": 70,
   "metadata": {},
   "outputs": [
    {
     "name": "stdout",
     "output_type": "stream",
     "text": [
      "1930/1930\n",
      "1544\n",
      "193\n",
      "193\n"
     ]
    }
   ],
   "source": [
    "from sklearn.model_selection import train_test_split\n",
    "\n",
    "ts_folder=os.path.join(parent_folder,\"bulk\",\"csv_no_text\",\"time_series_by_month_revised\")\n",
    "\n",
    "def make_vector(appid,df):\n",
    "    num_months=int((normal_review_start_time[appid]-early_access_start_time[appid])/(30.0*24.0*60.0*60.0))\n",
    "    chosen_month=random.randint(0,num_months)\n",
    "    first_one_hot_encoding=16\n",
    "    v=np.zeros((1,first_one_hot_encoding+len(all_categories)+len(all_genres)+2))\n",
    "\n",
    "    found_row=False\n",
    "    for i,row in df.iterrows():\n",
    "        if row['month']==chosen_month:\n",
    "            found_row=True\n",
    "            month_index=i\n",
    "            break\n",
    "        elif row['month']>chosen_month:\n",
    "            found_row=True\n",
    "            month_index=max(0,i-1)\n",
    "            break\n",
    "    if not found_row:\n",
    "        month_index=len(df)-1\n",
    "    \n",
    "    df['pos_reviews']=df['reviews']*df['ratio']\n",
    "    df['pos_weight_games_reviews']=df['reviews']*df['weight_games_ratio']\n",
    "    df['pos_weight_likes_reviews']=df['reviews']*df['weight_likes_ratio']\n",
    "    df['pos_weight_reviews_reviews']=df['reviews']*df['weight_reviews_ratio']\n",
    "    v[0,0]=chosen_month\n",
    "    v[0,1]=df.iloc[month_index]['reviews']\n",
    "    v[0,2]=df.iloc[month_index]['pos_reviews']\n",
    "    v[0,3]=df.iloc[month_index]['pos_weight_games_reviews']\n",
    "    v[0,4]=df.iloc[month_index]['pos_weight_likes_reviews']\n",
    "    v[0,5]=df.iloc[month_index]['pos_weight_reviews_reviews']\n",
    "    v[0,6]=df.iloc[0:month_index+1]['reviews'].sum()\n",
    "    v[0,7]=df.iloc[0:month_index+1]['pos_reviews'].sum()\n",
    "    v[0,8]=df.iloc[0:month_index+1]['pos_weight_games_reviews'].sum()\n",
    "    v[0,9]=df.iloc[0:month_index+1]['pos_weight_likes_reviews'].sum()\n",
    "    v[0,10]=df.iloc[0:month_index+1]['pos_weight_reviews_reviews'].sum()\n",
    "    v[0,11]=df.iloc[0]['reviews']\n",
    "    v[0,12]=df.iloc[0]['pos_reviews']\n",
    "    v[0,13]=df.iloc[0]['pos_weight_games_reviews']\n",
    "    v[0,14]=df.iloc[0]['pos_weight_likes_reviews']\n",
    "    v[0,15]=df.iloc[0]['pos_weight_reviews_reviews']\n",
    "    categories=game_df[game_df['appid']==appid]['categories'].iloc[0]\n",
    "    genres=game_df[game_df['appid']==appid]['genres'].iloc[0]\n",
    "    developers=game_df[game_df['appid']==appid]['developers'].iloc[0]\n",
    "    publishers=game_df[game_df['appid']==appid]['publishers'].iloc[0]\n",
    "    for category in categories:\n",
    "        if category != 'Early Access':\n",
    "            v[0,first_one_hot_encoding+all_categories.index(category)]=1\n",
    "    for genre in genres:\n",
    "        if genre != 'Early Access':\n",
    "            v[0,first_one_hot_encoding+len(all_categories)+all_genres.index(genre)]=1\n",
    "    v[0,first_one_hot_encoding+len(all_categories)+len(all_genres)]=max([all_developers[x] for x in developers])\n",
    "    v[0,first_one_hot_encoding+len(all_categories)+len(all_genres)+1]=max([all_publishers[x] for x in publishers])\n",
    "    return v\n",
    "\n",
    "def make_labeled_vector(appid,df_early,df_release):\n",
    "    return make_vector(appid,df_early),[df_release.iloc[0]['ratio']*1],num_reviews[int(appid)]\n",
    "\n",
    "vecs=[]\n",
    "labels=[]\n",
    "weights=[]\n",
    "bl=[]\n",
    "for i,appid in enumerate(relevant_appids,1):\n",
    "    print(appid)\n",
    "    df_early=pd.read_csv(os.path.join(ts_folder,str(appid)+'_month_time_series_early.csv'))\n",
    "    df_release=pd.read_csv(os.path.join(ts_folder,str(appid)+'_month_time_series_release.csv'))\n",
    "    for j in range(1):\n",
    "        v,l,w=make_labeled_vector(appid,df_early,df_release)\n",
    "        vecs.append(v)\n",
    "        labels.append(l)\n",
    "        weights.append(1)#np.log(w+1.0))\n",
    "    clear_output(wait=True)\n",
    "    print(str(i)+\"/\"+str(len(relevant_appids)))\n",
    "    \n",
    "vecs=np.vstack(vecs)\n",
    "labels=np.vstack(labels)[:,0]\n",
    "weights=np.vstack(weights)[:,0]\n",
    "\n",
    "from sklearn.model_selection import train_test_split\n",
    "\n",
    "training_idxs,testval_idxs=train_test_split(np.array(list(range(len(relevant_appids)))), test_size=0.2)\n",
    "testing_idxs,validation_idxs=train_test_split(testval_idxs, test_size=0.5)\n",
    "\n",
    "training_ids=relevant_appids[training_idxs]\n",
    "validation_ids=relevant_appids[validation_idxs]\n",
    "testing_ids=relevant_appids[testing_idxs]\n",
    "\n",
    "training_vecs=vecs[training_idxs,:]\n",
    "validation_vecs=vecs[validation_idxs,:]\n",
    "testing_vecs=vecs[testing_idxs,:]\n",
    "\n",
    "training_labels=labels[training_idxs]\n",
    "validation_labels=labels[validation_idxs]\n",
    "testing_labels=labels[testing_idxs]\n",
    "                           \n",
    "\n",
    "training_w=weights[training_idxs]\n",
    "validation_w=weights[validation_idxs]\n",
    "testing_w=weights[testing_idxs]\n",
    "#training_vecs=vecs[training_ids,:]\n",
    "\n",
    "#testing_vecs, validation_vecs, testing_labels, validation_labels,testing_w, validation_w = train_test_split(testval_vecs, testval_labels, testval_w, test_size=0.5)\n",
    "    \n",
    "                                           \n",
    "print(len(training_vecs))                \n",
    "print(len(testing_vecs))                \n",
    "print(len(validation_vecs))"
   ]
  },
  {
   "cell_type": "code",
   "execution_count": null,
   "metadata": {},
   "outputs": [],
   "source": []
  },
  {
   "cell_type": "code",
   "execution_count": null,
   "metadata": {},
   "outputs": [],
   "source": []
  },
  {
   "cell_type": "code",
   "execution_count": 23,
   "metadata": {},
   "outputs": [
    {
     "name": "stdout",
     "output_type": "stream",
     "text": [
      "Validation MSEs:\n",
      "0.07120988303042802\n",
      "0.06059960832705281\n",
      "0.06219488779827322\n",
      "0.6693528825646538\n",
      "0.22119941091623516\n",
      "\n",
      "Testing MSEs:\n",
      "0.05414958116668083\n",
      "0.05921214940288707\n",
      "0.05398776239699477\n",
      "0.06572024440114824\n",
      "0.05559716431539449\n"
     ]
    }
   ],
   "source": [
    "from sklearn.ensemble import RandomForestRegressor\n",
    "from sklearn.ensemble import GradientBoostingRegressor\n",
    "from sklearn.linear_model import LinearRegression\n",
    "from sklearn.metrics import mean_squared_error\n",
    "\n",
    "\n",
    "regressor=RandomForestRegressor(n_estimators=128,n_jobs=-1)#,min_samples_split=8,max_features=\"log2\")\n",
    "\n",
    "regressor.fit(training_vecs,training_labels,sample_weight=training_w);\n",
    "linreg=LinearRegression().fit(np.transpose([training_vecs[:,1]/training_vecs[:,0]]), training_labels,sample_weight=training_w)\n",
    "linreg_all=LinearRegression().fit(training_vecs,training_labels,sample_weight=training_w)\n",
    "\n",
    "print(\"Validation MSEs:\")\n",
    "predicted_labels = regressor.predict(validation_vecs)\n",
    "validation_bl = linreg.predict(np.transpose([validation_vecs[:,1]/validation_vecs[:,0]]))\n",
    "validation_bl_all = linreg_all.predict(validation_vecs)\n",
    "print(mean_squared_error(predicted_labels,validation_labels,sample_weight=validation_w))\n",
    "print(mean_squared_error(validation_bl,validation_labels,sample_weight=validation_w))\n",
    "print(mean_squared_error((predicted_labels+validation_bl)/2.0,validation_labels,sample_weight=validation_w))\n",
    "print(mean_squared_error(validation_bl_all,validation_labels,sample_weight=validation_w))\n",
    "print(mean_squared_error((predicted_labels+validation_bl_all)/2.0,validation_labels,sample_weight=validation_w))\n",
    "\n",
    "print(\"\\nTesting MSEs:\")\n",
    "predicted_labels = regressor.predict(testing_vecs)\n",
    "testing_bl = linreg.predict(np.transpose([testing_vecs[:,1]/testing_vecs[:,0]]))\n",
    "testing_bl_all = linreg_all.predict(testing_vecs)\n",
    "print(mean_squared_error(predicted_labels,testing_labels,sample_weight=testing_w))\n",
    "print(mean_squared_error(testing_bl,testing_labels,sample_weight=testing_w))\n",
    "print(mean_squared_error((predicted_labels+testing_bl)/2,testing_labels,sample_weight=testing_w))\n",
    "print(mean_squared_error(testing_bl_all,testing_labels,sample_weight=testing_w))\n",
    "print(mean_squared_error((predicted_labels+testing_bl_all)/2,testing_labels,sample_weight=testing_w))\n"
   ]
  },
  {
   "cell_type": "code",
   "execution_count": 89,
   "metadata": {},
   "outputs": [
    {
     "data": {
      "text/plain": [
       "0"
      ]
     },
     "execution_count": 89,
     "metadata": {},
     "output_type": "execute_result"
    }
   ],
   "source": [
    "from sklearn.model_selection import GridSearchCV\n",
    "\n",
    "estimator = RandomForestRegressor()\n",
    "param_grid = { \n",
    "            \"n_estimators\"      : [128],\n",
    "            \"max_features\"      : [\"auto\", \"sqrt\", \"log2\"],\n",
    "            \"min_samples_split\" : [2,8,16],\n",
    "            \"bootstrap\": [True, False],\n",
    "            \"n_jobs\" : [-1],\n",
    "            \"random_state\": [8]\n",
    "            }\n",
    "\n",
    "\n",
    "grid = GridSearchCV(estimator, param_grid, n_jobs=-1, cv=5)\n",
    "\n",
    "grid.fit(training_vecs,training_labels)\n",
    "\n",
    "print(grid.best_score_ , grid.best_params_)"
   ]
  },
  {
   "cell_type": "code",
   "execution_count": 250,
   "metadata": {},
   "outputs": [
    {
     "name": "stdout",
     "output_type": "stream",
     "text": [
      "14.29983862323145\n",
      "21.188512076992616\n",
      "14.741756606510375\n",
      "15.969131841615786\n",
      "21.216458154318076\n",
      "15.996382876923798\n"
     ]
    }
   ],
   "source": []
  },
  {
   "cell_type": "code",
   "execution_count": 257,
   "metadata": {},
   "outputs": [
    {
     "name": "stdout",
     "output_type": "stream",
     "text": [
      "2939/2939: [0.83268837]\n"
     ]
    }
   ],
   "source": [
    "ts_folder=os.path.join(parent_folder,\"bulk\",\"csv_no_text\",\"time_series_by_month_revised\")\n",
    "\n",
    "def make_vector(appid,df,chosen_month):\n",
    "    #num_months=int((normal_review_start_time[appid]-early_access_start_time[appid])/(30.0*24.0*60.0*60.0))\n",
    "    v=np.zeros((1,68))\n",
    "    first_one_hot_encoding=11\n",
    "    \n",
    "    found_row=False\n",
    "    for i,row in df.iterrows():\n",
    "        if row['month']==chosen_month:\n",
    "            found_row=True\n",
    "            month_index=i\n",
    "            break\n",
    "        elif row['month']>chosen_month:\n",
    "            found_row=True\n",
    "            month_index=max(0,i-1)\n",
    "            break\n",
    "    if not found_row:\n",
    "        month_index=len(df)-1\n",
    "    \n",
    "    v[0,0]=chosen_month\n",
    "    v[0,1]=float(df.iloc[month_index]['reviews'])/float(df.iloc[0]['reviews'])\n",
    "    v[0,2]=df.iloc[month_index]['ratio']\n",
    "    v[0,3]=df.iloc[month_index]['weight_games_ratio']\n",
    "    v[0,4]=df.iloc[month_index]['weight_likes_ratio']\n",
    "    v[0,5]=df.iloc[month_index]['weight_reviews_ratio']\n",
    "    v[0,6]=df.iloc[0]['reviews']\n",
    "    v[0,7]=df.iloc[0]['ratio']\n",
    "    v[0,8]=df.iloc[0]['weight_games_ratio']\n",
    "    v[0,9]=df.iloc[0]['weight_likes_ratio']\n",
    "    v[0,10]=df.iloc[0]['weight_reviews_ratio']\n",
    "    categories=game_df[game_df['appid']==appid]['categories'].iloc[0]\n",
    "    genres=game_df[game_df['appid']==appid]['genres'].iloc[0]\n",
    "    developers=game_df[game_df['appid']==appid]['developers'].iloc[0]\n",
    "    publishers=game_df[game_df['appid']==appid]['publishers'].iloc[0]\n",
    "    for category in categories:\n",
    "        if category != 'Early Access':\n",
    "            v[0,first_one_hot_encoding+all_categories.index(category)]=1\n",
    "    for genre in genres:\n",
    "        if genre != 'Early Access':\n",
    "            v[0,first_one_hot_encoding+len(all_categories)+all_genres.index(genre)]=1\n",
    "    v[0,first_one_hot_encoding+len(all_categories)+len(all_genres)]=max([all_developers[x] for x in developers])\n",
    "    v[0,first_one_hot_encoding+len(all_categories)+len(all_genres)+1]=max([all_publishers[x] for x in publishers])\n",
    "    return v\n",
    "\n",
    "def make_labeled_vector(appid,df_early,df_release):\n",
    "    return make_vector(appid,df_early),[df_release.iloc[0]['ratio']]\n",
    "\n",
    "vecs=[]\n",
    "for i,appid in enumerate(current_ea_games,1):\n",
    "    df=pd.read_csv(os.path.join(ts_folder,str(appid)+'_month_time_series.csv'))\n",
    "    vecs.append(make_vector(appid,df,1))\n",
    "    clear_output(wait=True)\n",
    "    print(str(i)+\"/\"+str(len(current_ea_games))+\": \"+str(regressor.predict(vecs[-1])))"
   ]
  },
  {
   "cell_type": "code",
   "execution_count": 261,
   "metadata": {},
   "outputs": [
    {
     "name": "stdout",
     "output_type": "stream",
     "text": [
      "2939/2939\n"
     ]
    }
   ],
   "source": [
    "vec_out_folder=os.path.join(parent_folder,\"bulk\",\"testing\",\"20190124_ea_vecs\")\n",
    "if not os.path.exists(vec_out_folder):\n",
    "    os.makedirs(vec_out_folder)\n",
    "\n",
    "for i,v in enumerate(vecs,0):\n",
    "    with open(os.path.join(vec_out_folder,str(current_ea_games[i])),'wb') as file:\n",
    "        pickle.dump(vecs[i],file)\n",
    "    clear_output(wait=True)\n",
    "    print(str(i+1)+\"/\"+str(len(current_ea_games)))"
   ]
  },
  {
   "cell_type": "code",
   "execution_count": 262,
   "metadata": {},
   "outputs": [
    {
     "name": "stdout",
     "output_type": "stream",
     "text": [
      "1930\n",
      "2939\n"
     ]
    }
   ],
   "source": [
    "tempvar=0\n",
    "for i,appid in enumerate(former_ea_games,1):\n",
    "    if appid in num_reviews:\n",
    "        tempvar+=1\n",
    "print(tempvar)\n",
    "print(len(current_ea_games))"
   ]
  },
  {
   "cell_type": "code",
   "execution_count": 16,
   "metadata": {},
   "outputs": [
    {
     "data": {
      "image/png": "[encoded data removed]",
      "text/plain": [
       "<Figure size 432x288 with 1 Axes>"
      ]
     },
     "metadata": {
      "needs_background": "light"
     },
     "output_type": "display_data"
    }
   ],
   "source": [
    "%matplotlib inline\n",
    "\n",
    "x_vals=[training_vecs[i,1]/training_vecs[i,0] for i in range(len(training_vecs))]\n",
    "y_vals=[training_labels[i] for i in range(len(training_labels))]\n",
    "size_vals=[np.log(num_reviews_df.loc[appid]['num_reviews']+1.5) for appid in training_ids]\n",
    "for i in range(len(testing_vecs)):\n",
    "    x_vals.append(testing_vecs[i,1]/testing_vecs[i,0])\n",
    "    y_vals.append(testing_labels[i])\n",
    "    size_vals.append(np.log(num_reviews_df.loc[validation_ids[i]]['num_reviews']+1.5))\n",
    "for i in range(len(validation_vecs)):\n",
    "    x_vals.append(validation_vecs[i,1]/validation_vecs[i,0])\n",
    "    y_vals.append(validation_labels[i])\n",
    "    size_vals.append(np.log(num_reviews_df.loc[validation_ids[i]]['num_reviews']+1.5))\n",
    "    \n",
    "    \n",
    "#print(x_vals)\n",
    "\n",
    "#or appid in useful_examples:\n",
    "#   x.append(useful_examples[appid]['original_ratio'])\n",
    "#   y.append(useful_examples[appid]['ratio_soon_after_positive'])\n",
    "#   size.append(np.log(useful_examples[appid]['num_reviews_soon_after_early_access']+1.5))\n",
    "for i in range(len(x_vals)):\n",
    "    plt.plot(x_vals[i],y_vals[i],'o',ms=size_vals[i])\n",
    "plt.xlabel(\"% positive reviews in first month of reviews\")\n",
    "plt.ylabel(\"% positive reviews in first month after release\")\n",
    "plt.show()\n"
   ]
  },
  {
   "cell_type": "code",
   "execution_count": 293,
   "metadata": {},
   "outputs": [],
   "source": [
    "plt.rcParams['figure.figsize']=[6.0,4.0] #DEFAULT\n",
    "#plt.rcParams['figure.figsize']=[12.0,8.0]"
   ]
  },
  {
   "cell_type": "code",
   "execution_count": 17,
   "metadata": {},
   "outputs": [
    {
     "data": {
      "image/png": "[encoded data removed]",
      "text/plain": [
       "<Figure size 432x288 with 1 Axes>"
      ]
     },
     "metadata": {
      "needs_background": "light"
     },
     "output_type": "display_data"
    },
    {
     "data": {
      "image/png": "[encoded data removed]",
      "text/plain": [
       "<Figure size 432x288 with 1 Axes>"
      ]
     },
     "metadata": {
      "needs_background": "light"
     },
     "output_type": "display_data"
    },
    {
     "data": {
      "image/png": "[encoded data removed]",
      "text/plain": [
       "<Figure size 432x288 with 1 Axes>"
      ]
     },
     "metadata": {
      "needs_background": "light"
     },
     "output_type": "display_data"
    }
   ],
   "source": [
    "#plt.rcParams['figure.figsize']=[12.0,8.0]\n",
    "x_vals=testing_labels\n",
    "y_vals=predicted_labels\n",
    "size_vals=[np.log(num_reviews_df.loc[int(appid)]['num_reviews']+1.5) for appid in testing_ids]\n",
    "#plt.rcParams['figure.figsize']=[12.0,8.0]\n",
    "plt.plot([0,1],[0,1],'-',c='k')\n",
    "for i in range(len(x_vals)):\n",
    "    plt.plot(x_vals[i],y_vals[i],'o',ms=size_vals[i])\n",
    "plt.xlabel(\"Real review ratio at launch\")\n",
    "plt.ylabel(\"Predicted review ratio at launch\")\n",
    "plt.title(\"Random Forest\")\n",
    "plt.show()\n",
    "\n",
    "x_vals=testing_labels\n",
    "y_vals=testing_bl_all\n",
    "size_vals=[np.log(num_reviews_df.loc[int(appid)]['num_reviews']+1.5) for appid in testing_ids]\n",
    "#plt.rcParams['figure.figsize']=[12.0,8.0]\n",
    "plt.plot([0,1],[0,1],'-',c='k')\n",
    "for i in range(len(x_vals)):\n",
    "    plt.plot(x_vals[i],y_vals[i],'o',ms=size_vals[i])\n",
    "plt.xlabel(\"Real review ratio at launch\")\n",
    "plt.ylabel(\"Predicted review ratio at launch\")\n",
    "plt.title(\"Linear regression on full vectors\")\n",
    "plt.show()\n",
    "\n",
    "x_vals=testing_labels\n",
    "y_vals=testing_bl\n",
    "size_vals=[np.log(num_reviews_df.loc[int(appid)]['num_reviews']+1.5) for appid in testing_ids]\n",
    "#plt.rcParams['figure.figsize']=[12.0,8.0]\n",
    "plt.plot([0,1],[0,1],'-',c='k')\n",
    "for i in range(len(x_vals)):\n",
    "    plt.plot(x_vals[i],y_vals[i],'o',ms=size_vals[i])\n",
    "plt.xlabel(\"Real review ratio at launch\")\n",
    "plt.ylabel(\"Predicted review ratio at launch\")\n",
    "plt.title(\"Linear regression on first month ratio\")\n",
    "plt.show()\n",
    "'''\n",
    "x_vals=np.transpose([testing_vecs[:,1]/testing_vecs[:,0]])\n",
    "y_vals=testing_bl\n",
    "size_vals=[np.log(num_reviews_df.loc[int(appid)]['num_reviews']+1.5) for appid in testing_ids]\n",
    "#plt.rcParams['figure.figsize']=[12.0,8.0]\n",
    "plt.plot([0,1],[0,1],'-',c='k')\n",
    "for i in range(len(x_vals)):\n",
    "    plt.plot(x_vals[i],y_vals[i],'o',ms=size_vals[i])\n",
    "plt.xlabel(\"First month review ratio\")\n",
    "plt.ylabel(\"Predicted review ratio at launch\")\n",
    "plt.title(\"Linear regression on first month ratio\")\n",
    "plt.show()''';"
   ]
  },
  {
   "cell_type": "code",
   "execution_count": null,
   "metadata": {},
   "outputs": [],
   "source": []
  },
  {
   "cell_type": "code",
   "execution_count": 296,
   "metadata": {},
   "outputs": [
    {
     "name": "stdout",
     "output_type": "stream",
     "text": [
      "55\n"
     ]
    }
   ],
   "source": [
    "print(len(all_categories)+len(all_genres))"
   ]
  },
  {
   "cell_type": "code",
   "execution_count": 308,
   "metadata": {},
   "outputs": [
    {
     "name": "stdout",
     "output_type": "stream",
     "text": [
      "5274019\n"
     ]
    },
    {
     "data": {
      "text/plain": [
       "<matplotlib.axes._subplots.AxesSubplot at 0x7fb227b91b38>"
      ]
     },
     "execution_count": 308,
     "metadata": {},
     "output_type": "execute_result"
    },
    {
     "data": {
      "image/png": "[encoded data removed]",
      "text/plain": [
       "<Figure size 432x288 with 1 Axes>"
      ]
     },
     "metadata": {
      "needs_background": "light"
     },
     "output_type": "display_data"
    }
   ],
   "source": [
    "num_reviews_list=[]\n",
    "for i,appid in enumerate(former_ea_games,1):\n",
    "    if appid in num_reviews:\n",
    "        num_reviews_list.append(num_reviews[appid])\n",
    "        \n",
    "series=pd.Series(num_reviews_list)\n",
    "print(series.sum())\n",
    "series.hist(log=True,bins=50)"
   ]
  },
  {
   "cell_type": "code",
   "execution_count": 311,
   "metadata": {},
   "outputs": [
    {
     "name": "stdout",
     "output_type": "stream",
     "text": [
      "1996/1996\n"
     ]
    },
    {
     "data": {
      "text/plain": [
       "<matplotlib.axes._subplots.AxesSubplot at 0x7fb2271d9b38>"
      ]
     },
     "execution_count": 311,
     "metadata": {},
     "output_type": "execute_result"
    },
    {
     "data": {
      "image/png": "[encoded data removed]",
      "text/plain": [
       "<Figure size 432x288 with 1 Axes>"
      ]
     },
     "metadata": {
      "needs_background": "light"
     },
     "output_type": "display_data"
    }
   ],
   "source": [
    "csv_folder=os.path.join(parent_folder,\"bulk\",\"csv_english\",\"early_access_standardized\")\n",
    "num_reviews_list=[]\n",
    "for i,appid in enumerate(former_ea_games,1):\n",
    "    if appid in num_reviews:\n",
    "        try:\n",
    "            df=pd.read_csv(os.path.join(csv_folder,str(appid)+'_reviews_english.csv'))\n",
    "            num_reviews_list.append(len(df))\n",
    "        except:\n",
    "            pass\n",
    "    clear_output(wait=True)\n",
    "    print(str(i)+\"/\"+str(len(former_ea_games)))\n",
    "        \n"
   ]
  },
  {
   "cell_type": "code",
   "execution_count": 312,
   "metadata": {},
   "outputs": [
    {
     "name": "stdout",
     "output_type": "stream",
     "text": [
      "2366775\n"
     ]
    },
    {
     "data": {
      "text/plain": [
       "<matplotlib.axes._subplots.AxesSubplot at 0x7fb223897898>"
      ]
     },
     "execution_count": 312,
     "metadata": {},
     "output_type": "execute_result"
    },
    {
     "data": {
      "image/png": "[encoded data removed]",
      "text/plain": [
       "<Figure size 432x288 with 1 Axes>"
      ]
     },
     "metadata": {
      "needs_background": "light"
     },
     "output_type": "display_data"
    }
   ],
   "source": [
    "series=pd.Series(num_reviews_list)\n",
    "print(series.sum())\n",
    "series.hist(log=True,bins=50)"
   ]
  },
  {
   "cell_type": "code",
   "execution_count": 126,
   "metadata": {},
   "outputs": [],
   "source": [
    "early_access_start_time_df=pd.DataFrame.from_dict(early_access_start_time,orient='index',columns=['time'])\n",
    "normal_review_start_time_df=pd.DataFrame.from_dict(normal_review_start_time,orient='index',columns=['time'])\n",
    "num_reviews_df=pd.DataFrame.from_dict(num_reviews,orient='index',columns=['num_reviews'])\n",
    "early_access_start_time_df=early_access_start_time_df.reset_index().rename(index=str,columns={'index':'appid'})\n",
    "normal_review_start_time_df=normal_review_start_time_df.reset_index().rename(index=str,columns={'index':'appid'})\n",
    "num_reviews_df=num_reviews_df.reset_index().rename(index=str,columns={'index':'appid'})\n",
    "early_access_start_time_df.to_csv(os.path.join(testing_folder,'20190126_early_access_start_time.csv'),index=False)\n",
    "normal_review_start_time_df.to_csv(os.path.join(testing_folder,'20190126_normal_review_start_time.csv'),index=False)\n",
    "#for i,row in df.iterrows():\n",
    "#    if row['month']==chosen_month:\n",
    "#        found_row=True\n",
    "#        month_index=i\n",
    "#        break\n",
    "#    elif row['month']>chosen_month:\n",
    "#        found_row=True\n",
    "#        month_index=max(0,i-1)\n",
    "#        break\n",
    "\n",
    "num_reviews_df.to_csv(os.path.join(testing_folder,'20190126_num_reviews.csv'),index=False)\n"
   ]
  },
  {
   "cell_type": "code",
   "execution_count": 130,
   "metadata": {},
   "outputs": [
    {
     "data": {
      "text/html": [
       "<div>\n",
       "<style scoped>\n",
       "    .dataframe tbody tr th:only-of-type {\n",
       "        vertical-align: middle;\n",
       "    }\n",
       "\n",
       "    .dataframe tbody tr th {\n",
       "        vertical-align: top;\n",
       "    }\n",
       "\n",
       "    .dataframe thead th {\n",
       "        text-align: right;\n",
       "    }\n",
       "</style>\n",
       "<table border=\"1\" class=\"dataframe\">\n",
       "  <thead>\n",
       "    <tr style=\"text-align: right;\">\n",
       "      <th></th>\n",
       "      <th>appid</th>\n",
       "      <th>num_reviews</th>\n",
       "    </tr>\n",
       "  </thead>\n",
       "  <tbody>\n",
       "    <tr>\n",
       "      <th>0</th>\n",
       "      <td>15540</td>\n",
       "      <td>483</td>\n",
       "    </tr>\n",
       "    <tr>\n",
       "      <th>1</th>\n",
       "      <td>16900</td>\n",
       "      <td>591</td>\n",
       "    </tr>\n",
       "    <tr>\n",
       "      <th>2</th>\n",
       "      <td>108600</td>\n",
       "      <td>19407</td>\n",
       "    </tr>\n",
       "    <tr>\n",
       "      <th>3</th>\n",
       "      <td>217120</td>\n",
       "      <td>64</td>\n",
       "    </tr>\n",
       "    <tr>\n",
       "      <th>4</th>\n",
       "      <td>223490</td>\n",
       "      <td>829</td>\n",
       "    </tr>\n",
       "  </tbody>\n",
       "</table>\n",
       "</div>"
      ],
      "text/plain": [
       "    appid  num_reviews\n",
       "0   15540          483\n",
       "1   16900          591\n",
       "2  108600        19407\n",
       "3  217120           64\n",
       "4  223490          829"
      ]
     },
     "execution_count": 130,
     "metadata": {},
     "output_type": "execute_result"
    }
   ],
   "source": [
    "num_reviews_df=pd.read_csv(os.path.join(testing_folder,'20190126_num_reviews.csv'))\n",
    "num_reviews_df.head()"
   ]
  },
  {
   "cell_type": "code",
   "execution_count": 4,
   "metadata": {},
   "outputs": [],
   "source": [
    "num_reviews_df=pd.read_csv(os.path.join(testing_folder,'20190126_num_reviews.csv')).set_index('appid')\n",
    "early_access_start_time_df=pd.read_csv(os.path.join(testing_folder,'20190126_early_access_start_time.csv')).set_index('appid')\n",
    "normal_review_start_time_df=pd.read_csv(os.path.join(testing_folder,'20190126_normal_review_start_time.csv')).set_index('appid')\n",
    "num_english_reviews={}"
   ]
  },
  {
   "cell_type": "code",
   "execution_count": 14,
   "metadata": {},
   "outputs": [
    {
     "name": "stdout",
     "output_type": "stream",
     "text": [
      "1930/1930\n",
      "z 145\n",
      "z 145\n",
      "z 145\n",
      "1544\n",
      "193\n",
      "193\n"
     ]
    }
   ],
   "source": [
    "from sklearn.model_selection import train_test_split\n",
    "\n",
    "word_freq_folder=os.path.join(parent_folder,\"bulk\",\"csv_english\",\"former_early_access_text_cleaned_count_vecs\")\n",
    "\n",
    "\n",
    "english_appids=np.array(sorted([int(x.split('_')[0]) for x in os.listdir(word_freq_folder) if x.split('_')[0]!='all']))\n",
    "\n",
    "                \n",
    "ts_folder=os.path.join(parent_folder,\"bulk\",\"csv_no_text\",\"time_series_by_month_revised\")\n",
    "\n",
    "def make_vector(appid,df):\n",
    "    num_months=int((normal_review_start_time_df.loc[int(appid)]['time']-early_access_start_time_df.loc[int(appid)]['time'])/(30.0*24.0*60.0*60.0))\n",
    "    chosen_month=random.randint(0,num_months)\n",
    "    \n",
    "    first_one_hot_encoding=16\n",
    "    \n",
    "    wfv = np.genfromtxt(os.path.join(word_freq_folder,str(appid)+'_count_vec.csv'), delimiter=',')\n",
    "    v=np.zeros((1,first_one_hot_encoding+len(all_categories)+len(all_genres)+2+len(wfv)))\n",
    "\n",
    "    found_row=False\n",
    "    for i,row in df.iterrows():\n",
    "        if row['month']==chosen_month:\n",
    "            found_row=True\n",
    "            month_index=i\n",
    "            break\n",
    "        elif row['month']>chosen_month:\n",
    "            found_row=True\n",
    "            month_index=max(0,i-1)\n",
    "            break\n",
    "    if not found_row:\n",
    "        month_index=len(df)-1\n",
    "        \n",
    "    found_row=False\n",
    "    for i,row in df.iterrows():\n",
    "        if row['month']>=3:\n",
    "            found_row=True\n",
    "            early_month_3_idx=i\n",
    "            break\n",
    "    if not found_row:\n",
    "        early_month_3_idx=1\n",
    "    \n",
    "    df['pos_reviews']=df['reviews']*df['ratio']\n",
    "    df['pos_weight_games_reviews']=df['reviews']*df['weight_games_ratio']\n",
    "    df['pos_weight_likes_reviews']=df['reviews']*df['weight_likes_ratio']\n",
    "    df['pos_weight_reviews_reviews']=df['reviews']*df['weight_reviews_ratio']\n",
    "    v[0,0]=chosen_month\n",
    "    v[0,1]=df.iloc[month_index]['reviews']\n",
    "    v[0,2]=df.iloc[month_index]['pos_reviews']\n",
    "    v[0,3]=df.iloc[month_index]['pos_weight_games_reviews']\n",
    "    v[0,4]=df.iloc[month_index]['pos_weight_likes_reviews']\n",
    "    v[0,5]=df.iloc[month_index]['pos_weight_reviews_reviews']\n",
    "    v[0,6]=df.iloc[0:month_index+1]['reviews'].sum()\n",
    "    v[0,7]=df.iloc[0:month_index+1]['pos_reviews'].sum()\n",
    "    v[0,8]=df.iloc[0:month_index+1]['pos_weight_games_reviews'].sum()\n",
    "    v[0,9]=df.iloc[0:month_index+1]['pos_weight_likes_reviews'].sum()\n",
    "    v[0,10]=df.iloc[0:month_index+1]['pos_weight_reviews_reviews'].sum()\n",
    "    v[0,11]=df.iloc[0:early_month_3_idx]['reviews'].sum()\n",
    "    v[0,12]=df.iloc[0:early_month_3_idx]['pos_reviews'].sum()\n",
    "    v[0,13]=df.iloc[0:early_month_3_idx]['pos_weight_games_reviews'].sum()\n",
    "    v[0,14]=df.iloc[0:early_month_3_idx]['pos_weight_likes_reviews'].sum()\n",
    "    v[0,15]=df.iloc[0:early_month_3_idx]['pos_weight_reviews_reviews'].sum()\n",
    "    categories=game_df[game_df['appid']==appid]['categories'].iloc[0]\n",
    "    genres=game_df[game_df['appid']==appid]['genres'].iloc[0]\n",
    "    developers=game_df[game_df['appid']==appid]['developers'].iloc[0]\n",
    "    publishers=game_df[game_df['appid']==appid]['publishers'].iloc[0]\n",
    "    for category in categories:\n",
    "        if category != 'Early Access':\n",
    "            v[0,first_one_hot_encoding+all_categories.index(category)]=1\n",
    "    for genre in genres:\n",
    "        if genre != 'Early Access':\n",
    "            v[0,first_one_hot_encoding+len(all_categories)+all_genres.index(genre)]=1\n",
    "    v[0,first_one_hot_encoding+len(all_categories)+len(all_genres)]=max([all_developers[x] for x in developers])\n",
    "    v[0,first_one_hot_encoding+len(all_categories)+len(all_genres)+1]=max([all_publishers[x] for x in publishers])\n",
    "    for i,x in enumerate(wfv,0):\n",
    "        v[0,first_one_hot_encoding+len(all_categories)+len(all_genres)+2+i]=x\n",
    "    return v\n",
    "\n",
    "def make_labeled_vector(appid,df_early,df_release):\n",
    "    found_row=False\n",
    "    for i,row in df_release.iterrows():\n",
    "        if row['month']>=3:\n",
    "            found_row=True\n",
    "            release_month_3_idx=i\n",
    "            break\n",
    "    if not found_row:\n",
    "        release_month_3_idx=1\n",
    "    df_release['pos_reviews']=df_release['reviews']*df_release['ratio']\n",
    "    found_row=False\n",
    "    for i,row in df_early.iterrows():\n",
    "        if row['month']>=3:\n",
    "            found_row=True\n",
    "            early_month_3_idx=i\n",
    "            break\n",
    "    if not found_row:\n",
    "        early_month_3_idx=1\n",
    "    df_early['pos_reviews']=df_early['reviews']*df_early['ratio']\n",
    "    \n",
    "    v=make_vector(appid,df_early)\n",
    "    \n",
    "    rel_ratio=df_release.iloc[0:release_month_3_idx]['pos_reviews'].sum()/ \\\n",
    "                                       float(df_release.iloc[0:release_month_3_idx]['reviews'].sum())\n",
    "    \n",
    "    early_ratio=df_early.iloc[0:early_month_3_idx]['pos_reviews'].sum()/ \\\n",
    "                                       float(df_early.iloc[0:early_month_3_idx]['reviews'].sum())\n",
    "    #return v,[rel_ratio-early_ratio],df_early['reviews'].sum()\n",
    "    \n",
    "    #if early_ratio!=0:\n",
    "    return v,[rel_ratio],df_early['reviews'].sum()\n",
    "    \n",
    "    #else:\n",
    "    #    return v,[1.5],df_early['reviews'].sum()\n",
    "\n",
    "vecs=[]\n",
    "labels=[]\n",
    "weights=[]\n",
    "bl=[]\n",
    "for i,appid in enumerate(english_appids,1):\n",
    "    print(appid)\n",
    "    df_early=pd.read_csv(os.path.join(ts_folder,str(appid)+'_month_time_series_early.csv'))\n",
    "    df_release=pd.read_csv(os.path.join(ts_folder,str(appid)+'_month_time_series_release.csv'))\n",
    "    for j in range(1):\n",
    "        v,l,w=make_labeled_vector(appid,df_early,df_release)\n",
    "        vecs.append(v)\n",
    "        labels.append(l)\n",
    "        weights.append(1)#np.log(w+1.0))\n",
    "    clear_output(wait=True)\n",
    "    print(str(i)+\"/\"+str(len(english_appids)))\n",
    "    \n",
    "vecs=np.vstack(vecs)\n",
    "labels=np.vstack(labels)[:,0]\n",
    "weights=np.vstack(weights)[:,0]\n",
    "\n",
    "print(\"z \"+str(len(v[0,:])))\n",
    "slicer=[not (16<=x<16+len(all_categories)+len(all_genres)) for x in range(len(v[0,:]))]\n",
    "vecs=vecs[:,slicer]\n",
    "print(\"z \"+str(len(v[0,:])))\n",
    "vecs=vecs[:,11:]\n",
    "print(\"z \"+str(len(v[0,:])))\n",
    "from sklearn.model_selection import train_test_split\n",
    "\n",
    "training_idxs,testval_idxs=train_test_split(np.array(list(range(len(english_appids)))), test_size=0.2)\n",
    "testing_idxs,validation_idxs=train_test_split(testval_idxs, test_size=0.5)\n",
    "\n",
    "training_ids=english_appids[training_idxs]\n",
    "validation_ids=english_appids[validation_idxs]\n",
    "testing_ids=english_appids[testing_idxs]\n",
    "\n",
    "training_vecs=vecs[training_idxs,:]\n",
    "validation_vecs=vecs[validation_idxs,:]\n",
    "testing_vecs=vecs[testing_idxs,:]\n",
    "\n",
    "training_labels=labels[training_idxs]\n",
    "validation_labels=labels[validation_idxs]\n",
    "testing_labels=labels[testing_idxs]\n",
    "                           \n",
    "\n",
    "training_w=weights[training_idxs]\n",
    "validation_w=weights[validation_idxs]\n",
    "testing_w=weights[testing_idxs]\n",
    "#training_vecs=vecs[training_ids,:]\n",
    "\n",
    "#testing_vecs, validation_vecs, testing_labels, validation_labels,testing_w, validation_w = train_test_split(testval_vecs, testval_labels, testval_w, test_size=0.5)\n",
    "    \n",
    "                                           \n",
    "print(len(training_vecs))                \n",
    "print(len(testing_vecs))                \n",
    "print(len(validation_vecs))"
   ]
  },
  {
   "cell_type": "code",
   "execution_count": 71,
   "metadata": {},
   "outputs": [
    {
     "name": "stdout",
     "output_type": "stream",
     "text": [
      "79\n"
     ]
    }
   ],
   "source": [
    "print(len(vecs[0,:]))"
   ]
  },
  {
   "cell_type": "code",
   "execution_count": 98,
   "metadata": {},
   "outputs": [
    {
     "name": "stdout",
     "output_type": "stream",
     "text": [
      "123123\n"
     ]
    }
   ],
   "source": [
    "print(\"testing\")\n",
    "a=input()\n",
    "clear_output(wait=True)\n",
    "print(a)"
   ]
  },
  {
   "cell_type": "code",
   "execution_count": null,
   "metadata": {},
   "outputs": [],
   "source": []
  }
 ],
 "metadata": {
  "kernelspec": {
   "display_name": "Python 3",
   "language": "python",
   "name": "python3"
  },
  "language_info": {
   "codemirror_mode": {
    "name": "ipython",
    "version": 3
   },
   "file_extension": ".py",
   "mimetype": "text/x-python",
   "name": "python",
   "nbconvert_exporter": "python",
   "pygments_lexer": "ipython3",
   "version": "3.6.8"
  }
 },
 "nbformat": 4,
 "nbformat_minor": 2
}
